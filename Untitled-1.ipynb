{
 "cells": [
  {
   "cell_type": "markdown",
   "id": "254ceb23",
   "metadata": {},
   "source": [
    "Enunciat: Llista el nom de tots els clients.\n"
   ]
  },
  {
   "cell_type": "code",
   "execution_count": null,
   "id": "a24ea476",
   "metadata": {},
   "outputs": [],
   "source": [
    "SELECT NomClient FROM clients ;"
   ]
  },
  {
   "cell_type": "markdown",
   "id": "8557d5d8",
   "metadata": {},
   "source": [
    "Enunciat: Llista el nom i el país de tots els clients."
   ]
  },
  {
   "cell_type": "code",
   "execution_count": null,
   "id": "89e60d05",
   "metadata": {},
   "outputs": [],
   "source": [
    "SELECT NomClient, País FROM clients ;"
   ]
  },
  {
   "cell_type": "markdown",
   "id": "502cbf27",
   "metadata": {},
   "source": [
    "Enunciat: Mostra totes les columnes de la taula Productes."
   ]
  },
  {
   "cell_type": "code",
   "execution_count": null,
   "id": "c9535ae8",
   "metadata": {},
   "outputs": [],
   "source": [
    "SELECT * FROM productes ;"
   ]
  },
  {
   "cell_type": "markdown",
   "id": "861422f6",
   "metadata": {},
   "source": [
    "Enunciat: Mostra els primers 10 clients (amb LIMIT)."
   ]
  },
  {
   "cell_type": "code",
   "execution_count": null,
   "id": "87203738",
   "metadata": {},
   "outputs": [],
   "source": [
    "SELECT * FROM clients LIMIT 0,10;"
   ]
  },
  {
   "cell_type": "markdown",
   "id": "cf3d4198",
   "metadata": {},
   "source": [
    "Enunciat: Mostra els 5 primers productes ordenats pel preu ascendent."
   ]
  },
  {
   "cell_type": "code",
   "execution_count": null,
   "id": "de5a281c",
   "metadata": {},
   "outputs": [],
   "source": [
    "SELECT NomProducte, preu FROM productes ORDER BY preu ASC LIMIT 0,5;"
   ]
  },
  {
   "cell_type": "markdown",
   "id": "1abcbee3",
   "metadata": {},
   "source": [
    "Enunciat: Llista tots els països diferents on hi ha clients."
   ]
  },
  {
   "cell_type": "code",
   "execution_count": null,
   "id": "7e9fc72e",
   "metadata": {},
   "outputs": [],
   "source": [
    "SELECT DISTINCT país FROM clients ORDER BY país;"
   ]
  },
  {
   "cell_type": "markdown",
   "id": "da842d32",
   "metadata": {},
   "source": [
    "Enunciat: Llista totes les ciutats diferents de clients a Espanya."
   ]
  },
  {
   "cell_type": "code",
   "execution_count": null,
   "id": "afed0756",
   "metadata": {},
   "outputs": [],
   "source": [
    "SELECT DISTINCT País FROM clients ORDER BY País;"
   ]
  },
  {
   "cell_type": "markdown",
   "id": "ef6797f8",
   "metadata": {},
   "source": [
    "Enunciat: Llista totes les ciutats diferents de clients a Espanya."
   ]
  },
  {
   "cell_type": "code",
   "execution_count": null,
   "id": "c810a2df",
   "metadata": {},
   "outputs": [],
   "source": [
    "SELECT DISTINCT ciutat FROM clients WHERE País = 'Espanya' ORDER BY País;"
   ]
  },
  {
   "cell_type": "markdown",
   "id": "50faf3c0",
   "metadata": {},
   "source": [
    "Enunciat: Mostra productes amb preu superior a 50."
   ]
  },
  {
   "cell_type": "markdown",
   "id": "120e5a06",
   "metadata": {},
   "source": []
  }
 ],
 "metadata": {
  "language_info": {
   "name": "python"
  }
 },
 "nbformat": 4,
 "nbformat_minor": 5
}
